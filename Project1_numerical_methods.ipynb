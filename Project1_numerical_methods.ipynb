{
  "cells": [
    {
      "cell_type": "markdown",
      "metadata": {
        "id": "Kvi1witj5wON"
      },
      "source": [
        "<a href=\"https://colab.research.google.com/github/johnryantaylor/QCES/blob/main/Project1_numerical_methods.ipynb\" target=\"_parent\"><img src=\"https://colab.research.google.com/assets/colab-badge.svg\" alt=\"Open In Colab\"/></a>"
      ]
    },
    {
      "cell_type": "markdown",
      "metadata": {
        "id": "lMhM6NoD5wOP"
      },
      "source": [
        "# Project 1: Heat transport"
      ]
    },
    {
      "cell_type": "markdown",
      "metadata": {
        "id": "_pgh031M5wOP"
      },
      "source": [
        "In this project we will discretize and timestep two systems that describe heat transport. In the first part we will timestep a box model for the Earth's surface temperature with heat buffering provided by the deep ocean. In the second part, we will timestep the one-dimensional diffusion equation which can be used to describe heat moving through a medium (e.g. the ground or still air and water).\n",
        "\n",
        "Through this project, we will learn how to efficiently timestep ordinary and partial differential equations and examine errors introduced by the numerical discretization. We will also have the chance to explore the timescales and physical processes involved in heat transport in the climate system."
      ]
    },
    {
      "cell_type": "markdown",
      "metadata": {
        "id": "mhshvEB4IAZE"
      },
      "source": [
        "## 1. Climate box model"
      ]
    },
    {
      "cell_type": "markdown",
      "metadata": {
        "id": "lxhhPMHNIAZE"
      },
      "source": [
        "In this part of the project we will timestep the following box model.\n",
        "\n",
        "$$ C_s \\partial_t T = F(t) - \\gamma(T-\\theta) $$\n",
        "\n",
        "$$ C_d \\partial_t \\theta = \\gamma (T-\\theta) $$\n",
        "\n",
        "Here, $T(t)$ represents the global mean surface temperature as a function of time and $\\theta(t)$ is the temperature of the deep ocean, both expressed as the difference between the temperature and a pre-industrial equilibrium in units of $^\\circ K$. The net surface heat flux, $F(t)$, drives departures from the pre-industrial temperatures. The heat flux between the surface and deep ocean is assumed to be proportional to the difference between the surface and deep ocean temperatures. The constants are the heat capacity of the surface of the Earth, $C_s$, the heat capacity of the deep ocean, $C_d$, and the heat flux coefficient, $\\gamma$, all given in units of $W/^\\circ K/m^2$. Note that $C_s$ and $C_d$ (as defined in Nicklas et al. 2025) are heat capacities per year; i.e. $1/C_s$ tells us how much the surface temperature would increase if a flux of 1 $W/m^2$ were applied for one year.\n",
        "\n",
        "This model is inspired by a more complicated version of a two box climate model in the paper referenced below. (Interested students might consider adding some additional features from their model, but this is not required for this project).\n",
        "\n",
        "*Nicklas, J.M., Fox-Kemper, B. and Lawrence, C., 2025. Efficient Estimation of Climate State and Its Uncertainty Using Kalman Filtering with Application to Policy Thresholds and Volcanism. Journal of Climate, 38(5), pp.1235-1270.*\n",
        "\n",
        "Below, we start to build code to solve these equations. Execute the code cells below.  In some cases you will be asked to add code.\n",
        "\n",
        "Student tasks are in [Section 1.1](#section1pt1), [Section 1.2](#section1pt2), and [Section 1.3](#section1pt3)."
      ]
    },
    {
      "cell_type": "code",
      "execution_count": null,
      "metadata": {
        "id": "bQJdpTTE5wOQ"
      },
      "outputs": [],
      "source": [
        "# Before we start, import necessary libraries. Run this cell first.\n",
        "import numpy as np\n",
        "import matplotlib.pyplot as plt\n",
        "import scipy.sparse as sp\n",
        "import scipy.sparse.linalg as spla\n",
        "import time"
      ]
    },
    {
      "cell_type": "markdown",
      "metadata": {
        "id": "SykdaBKGIAZF"
      },
      "source": [
        "Now, let's define values for the various constants. These values are taken from Nicklas et al., 2025."
      ]
    },
    {
      "cell_type": "code",
      "execution_count": null,
      "metadata": {
        "id": "vchcQTM_IAZF"
      },
      "outputs": [],
      "source": [
        "C_s = 17 # heat capacity of the Earth's surface (W/m^2/K)\n",
        "C_d = 156 # heat capacity of the deep ocean (W/m^2/K)\n",
        "gamma = 0.67 # heat exchange coefficient between surface and deep ocean (W/m^2/K)"
      ]
    },
    {
      "cell_type": "markdown",
      "metadata": {
        "id": "mO8EDNkeIAZF"
      },
      "source": [
        "Now, let's define a function for F(t), the net surface heat flux (in units of $W/m^2$) that will force our model. This function is here to represent the heat imbalance caused by antropogenic greenhouse gases in the atmosphere. When $F=0$, there is no net surface heat flux. The argument, $t$, is the time in years. We will let $t=0$ denote the start of our additional warming, and we set $F=1$ if $t<200$ years and $F=0$ if $t>200$ years. This corresponds to a very bad-case emissions scenario with an abrupt drop in emissions after 200 years."
      ]
    },
    {
      "cell_type": "code",
      "execution_count": null,
      "metadata": {
        "id": "VAucRUG3IAZG"
      },
      "outputs": [],
      "source": [
        "def F(t):\n",
        "    return 1 if t < 200 else 0"
      ]
    },
    {
      "cell_type": "markdown",
      "metadata": {
        "id": "goQRjdFFIAZG"
      },
      "source": [
        "Next, set the initial conditions. We will use arrays `T` and `theta`. `T[i]` represents the ith value in the array. We will use `T[0]` and `theta[0]` to hold the initial conditions. Subsequent values, `T[2]`, `T[3]`, etc. will be determined by timestepping the equations. We start by initializing the arrays using numpy and filling them with zeros and then set the initial values (this isn't necessary here since our values are zero anyway, but the code is here to that you can change the initial conditions easily)"
      ]
    },
    {
      "cell_type": "code",
      "execution_count": null,
      "metadata": {
        "id": "TnHQFFZRIAZG"
      },
      "outputs": [],
      "source": [
        "Nt = 500 # number of time steps (including the starting point)\n",
        "T = np.zeros(Nt) # surface temperature array\n",
        "theta = np.zeros(Nt) # deep ocean temperature array\n",
        "T[0] = 0 # initial surface temperature anomaly (ºK)\n",
        "theta[0] = 0 # initial deep ocean temperature anomaly (ºK)"
      ]
    },
    {
      "cell_type": "markdown",
      "metadata": {
        "id": "pVqxeTTjIAZG"
      },
      "source": [
        "Now, create an array with the time (in years) corresponding to each time index. Also, calculate the timestep, `dt`."
      ]
    },
    {
      "cell_type": "code",
      "execution_count": null,
      "metadata": {
        "id": "khU5EYmwIAZG"
      },
      "outputs": [],
      "source": [
        "t = np.linspace(0, 500, Nt) # time in years.  This starts at 0 and ends at 500, with Nt total points\n",
        "dt = t[1] - t[0] # timestep in years"
      ]
    },
    {
      "cell_type": "markdown",
      "metadata": {
        "id": "UKEa_-QtIAZG"
      },
      "source": [
        "Finally, we are ready to create a for loop to timestep the equations listed at the top of the section."
      ]
    },
    {
      "cell_type": "markdown",
      "metadata": {
        "id": "f5V44VwOIAZG"
      },
      "source": [
        "### 1.1 Student task:\n",
        "<a id='section1pt1'></a>\n",
        "Fill in the interior of the for loop to timestep the equations from the start of Section 1 using the Explicit Euler method."
      ]
    },
    {
      "cell_type": "code",
      "execution_count": null,
      "metadata": {
        "id": "fMIEyyiBIAZG"
      },
      "outputs": [],
      "source": [
        "for i in range(0, Nt-1):\n",
        "    T[i+1] = 1\n",
        "    theta[i+1] ="
      ]
    },
    {
      "cell_type": "markdown",
      "metadata": {
        "id": "nRTNIVprIAZG"
      },
      "source": [
        "After you are finished, run the cell below to plot the results"
      ]
    },
    {
      "cell_type": "code",
      "execution_count": null,
      "metadata": {
        "id": "dUfDCUGNIAZG"
      },
      "outputs": [],
      "source": [
        "plt.plot(t,T,'r-')\n",
        "plt.plot(t,theta,'b-')\n",
        "plt.legend(['Surface temperature','Deep ocean temperature'])\n",
        "plt.xlabel('Time (years)')\n",
        "plt.ylabel('Temperature anomaly (ºK)')\n",
        "plt.show()"
      ]
    },
    {
      "cell_type": "markdown",
      "metadata": {
        "id": "JE7Zj8OLIAZG"
      },
      "source": [
        "### 1.2 Student task\n",
        "<a id='section1pt2'></a>\n",
        "Discuss the rates of change the temperature of the Earth's surface and the deep ocean at the start of the model run.  Can you explain the response of $T$ and $\\theta$ to the forcing by defining characteristic timescales from the box model equations?"
      ]
    },
    {
      "cell_type": "markdown",
      "metadata": {
        "id": "Lni6Vs5SIAZG"
      },
      "source": [
        "INSERT DISCUSSION HERE (~1 paragraph)"
      ]
    },
    {
      "cell_type": "markdown",
      "metadata": {
        "id": "H8j8BpElIAZG"
      },
      "source": [
        "### 1.3 Student task\n",
        "<a id='section1pt3'></a>\n",
        "Modify the forcing function, `F(t)` above with 2-3 scenarios of your choice. Plot the temperature response for each scenario and briefly (2-3 sentences each) describe the temperature responses in each scenario. You will need to replicate some of the code blocks above so that you can produce a new set of plots below."
      ]
    },
    {
      "cell_type": "code",
      "execution_count": null,
      "metadata": {
        "id": "sF5idZkgIAZG"
      },
      "outputs": [],
      "source": [
        "# Add code to make plots here"
      ]
    },
    {
      "cell_type": "markdown",
      "metadata": {
        "id": "kNX1pbzrIAZH"
      },
      "source": [
        "INSERT DISCUSSION HERE"
      ]
    },
    {
      "cell_type": "markdown",
      "metadata": {
        "id": "SlqTFw5QIAZH"
      },
      "source": [
        "## 2. Diffusion equation"
      ]
    },
    {
      "cell_type": "markdown",
      "metadata": {
        "id": "_h1vPnHPIAZH"
      },
      "source": [
        "In this part of the project we will solve the 1-D diffusion equation:\n",
        "\n",
        "$$ \\partial_t c = \\kappa \\partial_x^2 c $$\n",
        "\n",
        "We will use second order finite differences to approximate the $x$-derivatives, and we will implement and compare two timestepping methods.\n",
        "\n",
        "Student tasks are in [Section 2.1](#section2pt1), [Section 2.2](#section2pt2), and [Section 2.3](#section2pt3)."
      ]
    },
    {
      "cell_type": "markdown",
      "metadata": {
        "id": "sbfMP73NIAZH"
      },
      "source": [
        "First, let's discretize the second order derivative using finite differences. The function below builds a coefficient matrix, $M$, so that $Mc$ is a discretized version of $\\partial^2_x c$, where in our discretized version $c$ is a column vector."
      ]
    },
    {
      "cell_type": "code",
      "execution_count": null,
      "metadata": {
        "id": "pyB17MtfIAZH"
      },
      "outputs": [],
      "source": [
        "    def construct_M(x):\n",
        "    # Build a coefficient matrix, such that M*c is the discrete version of d^2/dx^2(c)\n",
        "        dx = x[1] - x[0]  # Infer the uniform grid spacing\n",
        "        M = (np.diag(np.ones(Nx-1), -1) - 2*np.diag(np.ones(Nx), 0) + np.diag(np.ones(Nx-1), 1)) / dx**2\n",
        "        M = sp.csr_matrix(M) # Turn M into a sparse matrix to save memory and improve speed\n",
        "        return M"
      ]
    },
    {
      "cell_type": "markdown",
      "metadata": {
        "id": "Tquy_Mqe5wOR"
      },
      "source": [
        "Now, define two functions to timestep the diffusion equation. The code below timesteps the diffusion equation using the expicit Euler method. The function takes in a vector of discrete positions, `x`, discrete times, `t`, and the diffusivity, `kappa`. The vectors `x` and `t` dictate the discretization of the problem in space and time, and the grid spacing must be constant in space and time. The boundary conditions are $\\partial_x c=0$ at the starting and ending points in `x`."
      ]
    },
    {
      "cell_type": "code",
      "execution_count": null,
      "metadata": {
        "id": "0-9DGnW65wOR"
      },
      "outputs": [],
      "source": [
        "def EE(x, t, kappa):\n",
        "# This function timesteps the diffusion equation with homogeneous Neumann boundary conditions\n",
        "# using the explicit Euler and second order finite difference methods\n",
        "\n",
        "    start_time = time.time()  # Start a timer\n",
        "\n",
        "    # Infer the timestep from the time array\n",
        "    dt = t[1] - t[0]\n",
        "\n",
        "    M = construct_M(x)  # Construct the coefficient matrix for the second derivative\n",
        "\n",
        "    # Set the number of gridpoints in x and t\n",
        "    Nx = len(x); Nt = len(t)\n",
        "\n",
        "    # Create an empty sparse array to store the solution\n",
        "    c = np.zeros((Nx, Nt))\n",
        "\n",
        "    c[:, 0] = set_ics(x, kappa, 10)  # Set the initial condition\n",
        "\n",
        "    for k in range(1, Nt):  # loop over the number of timesteps\n",
        "      c[:,k] = c[:,k-1] + dt * kappa * M @ c[:,k-1]\n",
        "      # Enforce the boundary conditions (no flux)\n",
        "      c[0, k] = c[1, k]\n",
        "      c[-1, k] = c[-2, k]\n",
        "\n",
        "    end_time = time.time()  # Print the elapsed time\n",
        "\n",
        "    print(f\"Explicit Euler method took {end_time - start_time:.2f} seconds\")\n",
        "\n",
        "    return c"
      ]
    },
    {
      "cell_type": "markdown",
      "metadata": {
        "id": "OX6RUI8J5wOR"
      },
      "source": [
        "Similarly, the function below timesteps the diffusion equation with the Crank-Nicolson method"
      ]
    },
    {
      "cell_type": "code",
      "execution_count": null,
      "metadata": {
        "id": "KRXOP_KR5wOR"
      },
      "outputs": [],
      "source": [
        "def CN(x, t, kappa):\n",
        "# This function timesteps the diffusion equation with homogeneous Neumann boundary conditions\n",
        "# using the explicit Euler and second order finite difference methods\n",
        "    start_time = time.time()  # Start a timer\n",
        "\n",
        "    # Infer the timestep from the time array\n",
        "    dt = t[1] - t[0]\n",
        "\n",
        "    M = construct_M(x)  # Construct the coefficient matrix for the second derivative\n",
        "\n",
        "    # Set the number of gridpoints in x and t\n",
        "    Nx = len(x); Nt = len(t)\n",
        "\n",
        "    A = sp.eye(Nx) - 0.5 * dt * kappa * M  # This matrix appears on the LHS in the C-N scheme\n",
        "    A_inv = spla.inv(A) # Calculate the inverse of A (this only needs to be done once)\n",
        "\n",
        "    # Create an empty sparse array to store the solution\n",
        "    c = np.zeros((Nx, Nt))\n",
        "\n",
        "    c[:, 0] = set_ics(x, kappa, 10)  # Set the initial condition\n",
        "\n",
        "    for k in range(1, Nt): # loop over the number of timesteps\n",
        "        c[:, k] = A_inv @ (c[:, k-1] + 0.5 * dt * kappa * (M @ c[:, k-1]))\n",
        "        # Enforce the boundary conditions\n",
        "        c[0, k] = c[1, k]\n",
        "        c[-1, k] = c[-2, k]\n",
        "\n",
        "    end_time = time.time()  # Print the elapsed time\n",
        "\n",
        "    print(f\"Crank-Nicolson method took {end_time - start_time:.2f} seconds\")\n",
        "\n",
        "    return c"
      ]
    },
    {
      "cell_type": "markdown",
      "metadata": {
        "id": "CFtuEsYm5wOR"
      },
      "source": [
        "Next, create a function to set the initial conditions. The exact solution to the unbounded diffusion equation with a delta function initial condition is:\n",
        "\n",
        "$$\\left(\\frac{1}{4\\pi\\kappa t}\\right)^{1/2}e^{-x^2/(4\\kappa t)}$$\n",
        "\n",
        "The function below sets the initial condition by evaluating the exact solution at a given time. Note that it is important that we don't evaluate the exact solution at `t_ic=0` since this will return a delta function which will be undefined on our finite grid. The value of `t_ic` is set within the `EE` and `CN` functions."
      ]
    },
    {
      "cell_type": "code",
      "execution_count": null,
      "metadata": {
        "id": "Z7eqXuoY5wOR"
      },
      "outputs": [],
      "source": [
        "# Function to set the initial condition from the exact solution at time t_start\n",
        "def set_ics(x, kappa, t_ic):\n",
        "    c_ic = (4*np.pi*kappa*t_ic)**(-0.5)*np.exp(-x**2 / (4*kappa*t_ic))\n",
        "    # Enforce the boundary conditions\n",
        "    c_ic[0] = c_ic[1]\n",
        "    c_ic[-1] = c_ic[-2]\n",
        "    return c_ic\n"
      ]
    },
    {
      "cell_type": "markdown",
      "metadata": {
        "id": "4xs_Yhdb5wOS"
      },
      "source": [
        "Finally, define some parameters and the x and t vectors:"
      ]
    },
    {
      "cell_type": "code",
      "execution_count": null,
      "metadata": {
        "id": "mHatFZjk5wOS"
      },
      "outputs": [],
      "source": [
        "# Defining parameters\n",
        "kappa = 0.001  # diffusivity\n",
        "\n",
        "# Timestepping parameters\n",
        "t_start = 0  # start time (note that this is not the same time used to evaluate the exact solution to set the ICs)\n",
        "t_end = 10  # end time\n",
        "Nt = 1000  # number of timesteps\n",
        "\n",
        "# Size of the physical domain\n",
        "x_start = -1\n",
        "x_end = 1\n",
        "Nx = 100\n",
        "\n",
        "t = np.linspace(t_start, t_end, Nt)  # Create a vector of times\n",
        "x = np.linspace(x_start, x_end, Nx)  # Create a vector for x"
      ]
    },
    {
      "cell_type": "markdown",
      "metadata": {
        "id": "nate3yVV5wOS"
      },
      "source": [
        "Run each method once:"
      ]
    },
    {
      "cell_type": "code",
      "execution_count": null,
      "metadata": {
        "id": "UmccFq585wOS"
      },
      "outputs": [],
      "source": [
        "# Run the simulations\n",
        "c_EE = EE(x, t, kappa) # explicit Euler\n",
        "c_CN = CN(x, t, kappa) # Crank-Nicolson"
      ]
    },
    {
      "cell_type": "markdown",
      "metadata": {
        "id": "gh_SpkMY5wOS"
      },
      "source": [
        "and finally, plot the results side-by-side"
      ]
    },
    {
      "cell_type": "code",
      "execution_count": null,
      "metadata": {
        "id": "A2bPKtdH5wOS"
      },
      "outputs": [],
      "source": [
        "# Plot the results\n",
        "plt.figure(figsize=(14, 6))\n",
        "\n",
        "plt.subplot(1, 2, 1)\n",
        "plt.pcolormesh(x, t, c_EE.T, shading='auto')\n",
        "plt.xlabel('x')\n",
        "plt.ylabel('t')\n",
        "plt.title('Explicit Euler')\n",
        "\n",
        "plt.subplot(1, 2, 2)\n",
        "plt.pcolormesh(x, t, c_CN.T, shading='auto')\n",
        "plt.xlabel('x')\n",
        "plt.ylabel('t')\n",
        "plt.title('Crank-Nicolson')\n",
        "\n",
        "plt.tight_layout()\n",
        "plt.show()"
      ]
    },
    {
      "cell_type": "markdown",
      "metadata": {
        "id": "ttgIGnFH5wOT"
      },
      "source": [
        "## 2. Student investigation"
      ]
    },
    {
      "cell_type": "markdown",
      "metadata": {
        "id": "YTcN74Wy5wOT"
      },
      "source": [
        "### 2.1 Stability\n",
        "<a id='section2pt1'></a>\n",
        "The explicit Euler and Crank-Nicolson methods have different stability properties. To explore this, try increasing the diffusivity, $\\kappa$, and see how each method responds. Discuss your findings below (~2-3 sentences)."
      ]
    },
    {
      "cell_type": "markdown",
      "metadata": {
        "id": "PRYwUBJx5wOT"
      },
      "source": [
        "INSERT COMMENTS HERE"
      ]
    },
    {
      "cell_type": "markdown",
      "metadata": {
        "id": "iLIfQc-C5wOT"
      },
      "source": [
        "### 2.2 Accuracy\n",
        "<a id='section2pt2'></a>\n",
        "Next, we will examine the accuracy of the numerical methods used above. In order to do this, it is useful to compare our numerical solutions with the exact solution to the diffusion equation. Below, write code to plot the exact solution and the numerical solution using explicit Euler and Crank-Nicolson at the final time ($t=10$). Note that you can use the exact solution to the diffusion equation in an unbounded domain in $x$ and keep in mind that the exact solution and numerical solutions will differ for later times when boundary effects are felt."
      ]
    },
    {
      "cell_type": "code",
      "execution_count": null,
      "metadata": {
        "id": "mCLwo0ky5wOT"
      },
      "outputs": [],
      "source": [
        "# Add code to plot exact and numerical solutions"
      ]
    },
    {
      "cell_type": "markdown",
      "metadata": {
        "id": "Tr9KX8-O5wOT"
      },
      "source": [
        "The difference between the exact solution and the numerical approximation can be quantified by various measures of error. The *local error* is the difference between the exact solution and the numerical approximation after one timestep. The *global error* is the difference between the solutions after a fixed amount of time (which includes the accumulation of multiple steps of local error). A method is first order accurate if the global error is linearly proportional to the timestep. A method is second order accurate if the global error varies quadratically with the timestep. Below, calculate and plot the global error for the Explicit Euler and Crank-Nicolson methods and use your results to infer the order of accuracy of each scheme."
      ]
    },
    {
      "cell_type": "markdown",
      "metadata": {
        "id": "guaq3Hds5wOT"
      },
      "source": [
        "PLOT GLOBAL ERROR FOR EACH SCHEME (1-2 figures) AND DISCUSS ORDER OF ACCURACY (2-3 sentences)"
      ]
    },
    {
      "cell_type": "code",
      "execution_count": null,
      "metadata": {
        "id": "zRV2oWgA5wOT"
      },
      "outputs": [],
      "source": [
        "# Add code to plot error here\n"
      ]
    },
    {
      "cell_type": "markdown",
      "metadata": {
        "id": "FIR52qFV5wOT"
      },
      "source": [
        "Finally, select a given error tolerance and explore whether explicit Euler or Crank-Nicoslon is more efficient (faster) at generating solutions with error less than your error tolerance. Discuss your conclusion and add supporting figures if necessary."
      ]
    },
    {
      "cell_type": "markdown",
      "metadata": {
        "id": "yGbdjcEg5wOT"
      },
      "source": [
        "INSERT DISCUSSION OF ERROR HERE (~1 paragraph).  OPTIONALLY ADD PLOTS BY INSERTING A CODE BLOCK BELOW."
      ]
    },
    {
      "cell_type": "markdown",
      "metadata": {
        "id": "mLdwDZ_HVA6G"
      },
      "source": [
        "### 2.3 Boundary conditions for Crank-Nicolson scheme\n",
        "<a id='section2pt3'></a>\n",
        "\n",
        "The application of the boundary conditions for the Crank-Nicolson method isn't quite right in the script above (but the boundary conditions aren't very important in this example). Account for the boundary conditions by modifying the coefficient matrix. This should ensure that the boundary conditions are applied to the implicit and explicit terms involved in the Crank-Nicolson update. Plot your results below and verify that the boundary conditions are satisfied.  How would you handle fixed value (Dirichlet) and fixed gradient (Neumann) boundary conditions?"
      ]
    },
    {
      "cell_type": "code",
      "execution_count": null,
      "metadata": {
        "id": "LK7I3NIdIAZS"
      },
      "outputs": [],
      "source": [
        "ADD CODE AND PLOTS HERE"
      ]
    },
    {
      "cell_type": "markdown",
      "metadata": {
        "id": "vHKZigwrIAZS"
      },
      "source": [
        "ADD DISCUSSION OF DIRICHLET AND NEUMANN BOUNDARY CONDITIONS HERE (NO CODE NEEDED)"
      ]
    }
  ],
  "metadata": {
    "colab": {
      "provenance": []
    },
    "kernelspec": {
      "display_name": "dedalus3",
      "language": "python",
      "name": "python3"
    },
    "language_info": {
      "codemirror_mode": {
        "name": "ipython",
        "version": 3
      },
      "file_extension": ".py",
      "mimetype": "text/x-python",
      "name": "python",
      "nbconvert_exporter": "python",
      "pygments_lexer": "ipython3",
      "version": "3.12.2"
    }
  },
  "nbformat": 4,
  "nbformat_minor": 0
}